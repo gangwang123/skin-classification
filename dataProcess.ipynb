{
 "cells": [
  {
   "cell_type": "code",
   "execution_count": 57,
   "id": "8aa9499c",
   "metadata": {},
   "outputs": [],
   "source": [
    "import os\n",
    "import random\n",
    "import shutil"
   ]
  },
  {
   "cell_type": "code",
   "execution_count": 58,
   "id": "191d8209",
   "metadata": {},
   "outputs": [
    {
     "name": "stdout",
     "output_type": "stream",
     "text": [
      "AKIEC 327\n",
      "DF 115\n",
      "BKL 1097\n",
      "VASC 142\n",
      "NV 6695\n",
      "BCC 513\n",
      "MEL 1110\n"
     ]
    }
   ],
   "source": [
    "for filename in os.listdir('./trainSet/'):\n",
    "    if not filename.endswith('ore'):\n",
    "        print(filename,len(os.listdir(os.path.join('./trainSet/',filename)))) "
   ]
  },
  {
   "cell_type": "code",
   "execution_count": 59,
   "id": "d0709e76",
   "metadata": {},
   "outputs": [],
   "source": [
    "testSet_path='testSet/'\n",
    "validation_path='./validationSet/'\n",
    "train_path='./trainSet/'\n",
    "def mkdile(filename):\n",
    "    if not os.path.exists(filename):\n",
    "        os.mkdir(filename)\n",
    "mkdile(testSet_path)\n",
    "mkdile(validation_path)"
   ]
  },
  {
   "cell_type": "code",
   "execution_count": 60,
   "id": "aae872cd",
   "metadata": {},
   "outputs": [],
   "source": [
    "test_ratio=0.2\n",
    "val_ratio=0.1\n",
    "for filename in os.listdir('./trainSet/'):\n",
    "    if not filename.endswith('ore'):\n",
    "        test_length=int(len(os.listdir(os.path.join('./trainSet/',filename)))*test_ratio)\n",
    "        val_length=int(len(os.listdir(os.path.join('./trainSet/',filename)))*val_ratio)\n",
    "\n",
    "\n",
    "        mkdile(testSet_path+filename)\n",
    "        mkdile(validation_path+filename)\n",
    "\n",
    "\n",
    "        label_lst=os.listdir(os.path.join('./trainSet/',filename))\n",
    "        test_pic=random.sample(label_lst,test_length)\n",
    "        for t in test_pic:\n",
    "            shutil.copy(os.path.join(os.path.join(train_path,filename),t),testSet_path+filename)\n",
    "            os.remove(os.path.join(os.path.join(train_path,filename),t))\n",
    "\n",
    "\n",
    "        label_lst=os.listdir(os.path.join('./trainSet/',filename))            \n",
    "        val_pic=random.sample(label_lst,val_length)\n",
    "        for v in val_pic:\n",
    "            shutil.copy(os.path.join(os.path.join(train_path,filename),v),validation_path+filename)\n",
    "            os.remove(os.path.join(os.path.join(train_path,filename),v))\n",
    "        "
   ]
  },
  {
   "cell_type": "code",
   "execution_count": 61,
   "id": "7c2f2ae8",
   "metadata": {},
   "outputs": [
    {
     "name": "stdout",
     "output_type": "stream",
     "text": [
      "AKIEC 230\n",
      "DF 81\n",
      "BKL 769\n",
      "VASC 100\n",
      "NV 4687\n",
      "BCC 360\n",
      "MEL 777\n"
     ]
    }
   ],
   "source": [
    "for filename in os.listdir('./trainSet/'):\n",
    "    if not filename.endswith('ore'):\n",
    "        print(filename,len(os.listdir(os.path.join('./trainSet/',filename)))) "
   ]
  },
  {
   "cell_type": "code",
   "execution_count": null,
   "id": "7f2ac923",
   "metadata": {},
   "outputs": [],
   "source": []
  }
 ],
 "metadata": {
  "kernelspec": {
   "display_name": "Python 3",
   "language": "python",
   "name": "python3"
  },
  "language_info": {
   "codemirror_mode": {
    "name": "ipython",
    "version": 3
   },
   "file_extension": ".py",
   "mimetype": "text/x-python",
   "name": "python",
   "nbconvert_exporter": "python",
   "pygments_lexer": "ipython3",
   "version": "3.8.8"
  }
 },
 "nbformat": 4,
 "nbformat_minor": 5
}
